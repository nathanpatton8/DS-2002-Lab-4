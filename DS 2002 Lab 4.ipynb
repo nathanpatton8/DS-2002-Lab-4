{
 "cells": [
  {
   "cell_type": "markdown",
   "id": "9cbdb13d",
   "metadata": {},
   "source": [
    "# LAB 4"
   ]
  },
  {
   "cell_type": "markdown",
   "id": "8914e39e",
   "metadata": {},
   "source": [
    "## DIRECTIONS"
   ]
  },
  {
   "cell_type": "markdown",
   "id": "83881b14",
   "metadata": {},
   "source": [
    "Due: Sunday at 11:59 P.M. via Collab and GitHub\n",
    "\n",
    "Learning Objective\n",
    "1.\tPut into practice using Python to interact and call a public API successfully\n",
    "2.\tLook at the data within JSON and DataFrames\n",
    "3.\tWrite your data to a local file (JSON)\n",
    "4.\tUse basic visualization to display information\n",
    "5.\tInteract with users\n",
    "\n",
    "Challenge:\n",
    "You have seen some examples of how to interact with JSON, CSV and make API Calls. Take some time to explore the YAHOO Finance Guide https://syncwith.com/yahoo-finance/yahoo-finance-api which shows you endpoints for calling information. Your job is to code a Python Program that does the following things:\n",
    "\n",
    "1.\tTakes user input for a stock (using the Ticker Symbol): IE with the input() command\n",
    "2.\tYou will display back the user: Name Ticker, Full Name of the Stock, Current Price, Target Mean Price, Cash on Hand, Profit Margins\n",
    "3.\tStore the Results Locally in JSON Format with just those items and include a date of when that data was pulled\n",
    "4.\tHandle Errors (IE, the stock doesn’t exist and/or the API is not returning information)\n",
    "\n",
    "You will have to read the documentation and figure out which modules to call to get the data that you need. You will need to make more than one call to this API. Use the examples in our Zoom Session to guide you, but the documentation will be enough. Post your code to GitHub.\n",
    "\n",
    "Bonus –\n",
    "1.\tUse MatPlotLib to chart the historical price of a stock price’s highest value over the past 5 days. "
   ]
  },
  {
   "cell_type": "markdown",
   "id": "5d245d79",
   "metadata": {},
   "source": [
    "## CODE"
   ]
  },
  {
   "cell_type": "code",
   "execution_count": 240,
   "id": "36961172",
   "metadata": {},
   "outputs": [],
   "source": [
    "#Import Statements\n",
    "import json\n",
    "import requests \n",
    "import pandas\n",
    "import datetime\n",
    "from datetime import date\n",
    "from matplotlib import pyplot as plt"
   ]
  },
  {
   "cell_type": "code",
   "execution_count": 221,
   "id": "9acaee18",
   "metadata": {
    "scrolled": false
   },
   "outputs": [
    {
     "name": "stdout",
     "output_type": "stream",
     "text": [
      "MSFT\n"
     ]
    }
   ],
   "source": [
    "#Taking user input for a stock\n",
    "stock = input()"
   ]
  },
  {
   "cell_type": "code",
   "execution_count": 253,
   "id": "5266e2a1",
   "metadata": {},
   "outputs": [],
   "source": [
    "#Extracting data from API\n",
    "header_var = {'User-Agent': 'Mozilla/5.0 (Macintosh; Intel Mac OS X 10_10_1) AppleWebKit/537.36 (KHTML, like Gecko) Chrome/39.0.2171.95 Safari/537.36'}\n",
    "\n",
    "url1 = 'https://query1.finance.yahoo.com/v7/finance/quote'\n",
    "query_str1 = {\"symbols\": stock}\n",
    "response1 = requests.request(\"GET\", url1, headers = header_var, params=query_str1)\n",
    "stock_json1 = response1.json()\n",
    "\n",
    "url2 = \"https://query1.finance.yahoo.com/v10/finance/quoteSummary/\"\n",
    "query_str2 = {\"symbol\": stock, \"modules\":\"financialData\"}\n",
    "response2 = requests.request(\"GET\", url2, headers = header_var, params=query_str2)\n",
    "stock_json2 = response.json()\n"
   ]
  },
  {
   "cell_type": "code",
   "execution_count": 248,
   "id": "dd6cbae7",
   "metadata": {},
   "outputs": [],
   "source": [
    "#Declaring Variables and Handling Errors\n",
    "try:\n",
    "    long_name = stock_json1['quoteResponse']['result'][0]['longName']\n",
    "    current_price = stock_json2[\"quoteSummary\"][\"result\"][0][\"financialData\"][\"currentPrice\"]\n",
    "    target_mean_price = stock_json2[\"quoteSummary\"][\"result\"][0][\"financialData\"][\"targetMeanPrice\"]\n",
    "    profit_margin = stock_json2[\"quoteSummary\"][\"result\"][0][\"financialData\"][\"profitMargins\"]\n",
    "    cash_on_hand = stock_json2[\"quoteSummary\"][\"result\"][0][\"financialData\"][\"freeCashflow\"]\n",
    "except IndexError:\n",
    "    raise IndexError(\"Stock is not properly defined or server is down. Please input a valid ticker or try again later.\")"
   ]
  },
  {
   "cell_type": "code",
   "execution_count": 251,
   "id": "5dc6444c",
   "metadata": {},
   "outputs": [
    {
     "data": {
      "text/plain": [
       "'MSFT'"
      ]
     },
     "execution_count": 251,
     "metadata": {},
     "output_type": "execute_result"
    }
   ],
   "source": [
    "#Name Ticker\n",
    "stock"
   ]
  },
  {
   "cell_type": "code",
   "execution_count": 231,
   "id": "608fff6e",
   "metadata": {},
   "outputs": [
    {
     "data": {
      "text/plain": [
       "'Microsoft Corporation'"
      ]
     },
     "execution_count": 231,
     "metadata": {},
     "output_type": "execute_result"
    }
   ],
   "source": [
    "#long_name\n",
    "long_name"
   ]
  },
  {
   "cell_type": "code",
   "execution_count": 232,
   "id": "81dc36e6",
   "metadata": {},
   "outputs": [
    {
     "data": {
      "text/plain": [
       "{'raw': 228.56, 'fmt': '228.56'}"
      ]
     },
     "execution_count": 232,
     "metadata": {},
     "output_type": "execute_result"
    }
   ],
   "source": [
    "#current_price\n",
    "current_price"
   ]
  },
  {
   "cell_type": "code",
   "execution_count": 233,
   "id": "ad77df7c",
   "metadata": {},
   "outputs": [
    {
     "data": {
      "text/plain": [
       "{'raw': 329.65, 'fmt': '329.65'}"
      ]
     },
     "execution_count": 233,
     "metadata": {},
     "output_type": "execute_result"
    }
   ],
   "source": [
    "#target_mean_price\n",
    "target_mean_price"
   ]
  },
  {
   "cell_type": "code",
   "execution_count": 234,
   "id": "b645f434",
   "metadata": {},
   "outputs": [
    {
     "data": {
      "text/plain": [
       "{'raw': 0.36686, 'fmt': '36.69%'}"
      ]
     },
     "execution_count": 234,
     "metadata": {},
     "output_type": "execute_result"
    }
   ],
   "source": [
    "#profit_margin\n",
    "profit_margin"
   ]
  },
  {
   "cell_type": "code",
   "execution_count": 236,
   "id": "d5d5633b",
   "metadata": {},
   "outputs": [
    {
     "data": {
      "text/plain": [
       "{'raw': 49479000064, 'fmt': '49.48B', 'longFmt': '49,479,000,064'}"
      ]
     },
     "execution_count": 236,
     "metadata": {},
     "output_type": "execute_result"
    }
   ],
   "source": [
    "#cash_on_hand\n",
    "cash_on_hand"
   ]
  },
  {
   "cell_type": "code",
   "execution_count": 241,
   "id": "7a08f6f0",
   "metadata": {},
   "outputs": [
    {
     "data": {
      "text/plain": [
       "{'Name Ticker': 'MSFT',\n",
       " 'Full Name of Stock': 'Microsoft Corporation',\n",
       " 'Profit Margins': {'raw': 0.36686, 'fmt': '36.69%'},\n",
       " 'Target Mean Price': {'raw': 329.65, 'fmt': '329.65'},\n",
       " 'Cash on Hand': {'raw': 49479000064,\n",
       "  'fmt': '49.48B',\n",
       "  'longFmt': '49,479,000,064'},\n",
       " 'Current Price': {'raw': 228.56, 'fmt': '228.56'},\n",
       " 'Date': '2022-10-19'}"
      ]
     },
     "execution_count": 241,
     "metadata": {},
     "output_type": "execute_result"
    }
   ],
   "source": [
    "#Store the Results Locally in JSON Format with just those items and include a date of when that data was pulled\n",
    "date = str(date.today())\n",
    "dictionary = {\"Name Ticker\": stock,\n",
    "              \"Full Name of Stock\": long_name,\n",
    "              \"Profit Margins\": profit_margins,\n",
    "              \"Target Mean Price\": target_mean_price,\n",
    "              \"Cash on Hand\": cash_on_hand,\n",
    "              \"Current Price\": current_price,\n",
    "              \"Date\": date}\n",
    "with open(\"sample.json\", \"w\") as outfile:\n",
    "    json.dump(dictionary, outfile)\n",
    "\n",
    "dictionary"
   ]
  },
  {
   "cell_type": "code",
   "execution_count": 250,
   "id": "7c0b32ca",
   "metadata": {},
   "outputs": [],
   "source": [
    "#Use MatPlotLib to chart the historical price of a stock price’s highest value over the past 5 days.\n",
    "url3 = \"https://query1.finance.yahoo.com/v8/finance/chart/\"\n",
    "query_str3 = {\"symbol\": stock, \"range\": '5d', 'interval': '1d', 'metrics': 'high'}\n",
    "response3 = requests.request(\"GET\", url3, headers = header_var, params=query_str4)\n",
    "stock_json3 = response.json()"
   ]
  }
 ],
 "metadata": {
  "kernelspec": {
   "display_name": "Python 3",
   "language": "python",
   "name": "python3"
  },
  "language_info": {
   "codemirror_mode": {
    "name": "ipython",
    "version": 3
   },
   "file_extension": ".py",
   "mimetype": "text/x-python",
   "name": "python",
   "nbconvert_exporter": "python",
   "pygments_lexer": "ipython3",
   "version": "3.8.8"
  }
 },
 "nbformat": 4,
 "nbformat_minor": 5
}
